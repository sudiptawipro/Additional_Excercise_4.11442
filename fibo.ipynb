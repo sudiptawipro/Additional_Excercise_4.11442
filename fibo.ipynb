{
 "cells": [
  {
   "cell_type": "markdown",
   "metadata": {},
   "source": [
    "### 3) Write a python module script that contains fib2() method to calculate the fibonacci series till 1000 and save it as fibo.py. \n",
    "    Note : The module created as fibo.py has to be placed in lib folder\n"
   ]
  },
  {
   "cell_type": "code",
   "execution_count": 64,
   "metadata": {
    "collapsed": false
   },
   "outputs": [],
   "source": [
    "def fib2(upto):\n",
    "    n1 = 0\n",
    "    n2 = 1\n",
    "    \n",
    "    if upto <= 0:\n",
    "       print(\"Please enter a number greater than zero.\")\n",
    "    \n",
    "    elif upto == 1:\n",
    "       print(\"Fibonacci sequence upto\",upto,\":\" + str(upto))\n",
    "    \n",
    "    else:\n",
    "        print(\"Displaying Fibonacci sequence upto\",upto,\":\")\n",
    "        while n2 <= upto:\n",
    "            print(n1,end=' , ')\n",
    "            nth = n1 + n2\n",
    "            n1 = n2\n",
    "            n2 = nth\n",
    "        \n",
    "        print(n1)\n",
    "\n",
    "           "
   ]
  }
 ],
 "metadata": {
  "kernelspec": {
   "display_name": "Python [default]",
   "language": "python",
   "name": "python3"
  },
  "language_info": {
   "codemirror_mode": {
    "name": "ipython",
    "version": 3
   },
   "file_extension": ".py",
   "mimetype": "text/x-python",
   "name": "python",
   "nbconvert_exporter": "python",
   "pygments_lexer": "ipython3",
   "version": "3.5.5"
  }
 },
 "nbformat": 4,
 "nbformat_minor": 1
}

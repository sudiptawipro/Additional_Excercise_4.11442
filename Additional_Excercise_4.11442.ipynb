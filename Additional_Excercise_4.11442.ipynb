{
 "cells": [
  {
   "cell_type": "markdown",
   "metadata": {},
   "source": [
    "## 1) Write a Python program which accepts a list named : \n",
    "        randomList = ['a',0,2]. \n",
    "        \n",
    "        Use exception handling using try-catch which gives the output as:\n",
    "        \n",
    "        Output\n",
    "        1) If the List element is a alphabet or string, the output will be\n",
    "        The entry is a\n",
    "        Oops! <class 'ValueError'> occured.\n",
    "        \n",
    "        Next entry.\n",
    "        2) If the List element is “0”,the output will be\n",
    "        The entry is 0\n",
    "        Oops! <class 'ZeroDivisionError'> occured.\n",
    "        \n",
    "        Next entry.\n",
    "        3) If the List element is and integer except 0,then output will be\n",
    "        The entry is 2\n",
    "        The reciprocal of 2 is 0.5 // reciprocal of an integer"
   ]
  },
  {
   "cell_type": "code",
   "execution_count": 18,
   "metadata": {
    "collapsed": false
   },
   "outputs": [],
   "source": [
    "def list_chk(randomList):\n",
    "    \n",
    "        for i in randomList:\n",
    "            try:\n",
    "                if str(i).isalpha():\n",
    "                    raise ValueError(\"The entry is : {a} - Oops! <class 'ValueError'> occured.\".format(a=i))\n",
    "\n",
    "                elif str(i) == '0':\n",
    "                    raise ZeroDivisionError(\"The entry is : 0 - Oops! <class 'ZeroDivisionError'> occured.\")\n",
    "                else:\n",
    "                    print(\"Reciprocal of {a} is: {b}\".format(a=i,b=1/i))\n",
    "\n",
    "            except ValueError as ex:\n",
    "                print(ex)\n",
    "\n",
    "            except ZeroDivisionError as ex1:\n",
    "                print(ex1)"
   ]
  },
  {
   "cell_type": "code",
   "execution_count": 19,
   "metadata": {
    "collapsed": false
   },
   "outputs": [
    {
     "name": "stdout",
     "output_type": "stream",
     "text": [
      "The entry is : 0 - Oops! <class 'ZeroDivisionError'> occured.\n",
      "The entry is : abc - Oops! <class 'ValueError'> occured.\n",
      "Reciprocal of 5 is: 0.2\n"
     ]
    }
   ],
   "source": [
    "list_chk([0,'abc',5])"
   ]
  },
  {
   "cell_type": "code",
   "execution_count": 20,
   "metadata": {
    "collapsed": false
   },
   "outputs": [
    {
     "name": "stdout",
     "output_type": "stream",
     "text": [
      "Reciprocal of 1 is: 1.0\n",
      "Reciprocal of 2 is: 0.5\n",
      "Reciprocal of 5 is: 0.2\n"
     ]
    }
   ],
   "source": [
    "list_chk([1,2,5])"
   ]
  },
  {
   "cell_type": "markdown",
   "metadata": {},
   "source": [
    "### 2) Array out of Bound Exception\n",
    "       \n",
    "       Write a Python program to give exception “Array Out of Bound” if the user wants to access the elements beyond the list   size (use try and exce pt)\n"
   ]
  },
  {
   "cell_type": "code",
   "execution_count": 21,
   "metadata": {
    "collapsed": true
   },
   "outputs": [],
   "source": [
    "def chk_array_index(list,index):\n",
    "    try:\n",
    "        if index> len(list):\n",
    "            raise IndexError\n",
    "        else:\n",
    "            print(\"In the given list the value of index {a} is : {b}\".format(a=index,b=list[index]))\n",
    "            \n",
    "    except IndexError as ex:\n",
    "        print(\"opps - Array out of bound\")\n",
    "        print(ex)"
   ]
  },
  {
   "cell_type": "code",
   "execution_count": 22,
   "metadata": {
    "collapsed": false
   },
   "outputs": [
    {
     "name": "stdout",
     "output_type": "stream",
     "text": [
      "opps - Array out of bound\n",
      "list index out of range\n"
     ]
    }
   ],
   "source": [
    "chk_array_index([1,2,3],3)"
   ]
  },
  {
   "cell_type": "code",
   "execution_count": 23,
   "metadata": {
    "collapsed": false
   },
   "outputs": [
    {
     "name": "stdout",
     "output_type": "stream",
     "text": [
      "In the given list the value of index 1 is : 2\n"
     ]
    }
   ],
   "source": [
    "chk_array_index([1,2,3],1)"
   ]
  },
  {
   "cell_type": "code",
   "execution_count": 24,
   "metadata": {
    "collapsed": false
   },
   "outputs": [
    {
     "name": "stdout",
     "output_type": "stream",
     "text": [
      "In the given list the value of index 2 is : 3\n"
     ]
    }
   ],
   "source": [
    "chk_array_index([1,2,3],2)"
   ]
  },
  {
   "cell_type": "markdown",
   "metadata": {},
   "source": [
    "### 3) Write a python module script that contains fib2() method to calculate the fibonacci series till 1000 and save it as fibo.py. \n",
    "    Note : The module created as fibo.py has to be placed in lib folder\n"
   ]
  },
  {
   "cell_type": "code",
   "execution_count": 25,
   "metadata": {
    "collapsed": false
   },
   "outputs": [],
   "source": [
    "import fibo"
   ]
  },
  {
   "cell_type": "code",
   "execution_count": 26,
   "metadata": {
    "collapsed": false
   },
   "outputs": [
    {
     "name": "stdout",
     "output_type": "stream",
     "text": [
      "Please enter a number greater than zero.\n"
     ]
    }
   ],
   "source": [
    "fibo.fib2(-1)"
   ]
  },
  {
   "cell_type": "code",
   "execution_count": 27,
   "metadata": {
    "collapsed": false
   },
   "outputs": [
    {
     "name": "stdout",
     "output_type": "stream",
     "text": [
      "Please enter a number greater than zero.\n"
     ]
    }
   ],
   "source": [
    "fibo.fib2(0)"
   ]
  },
  {
   "cell_type": "code",
   "execution_count": 28,
   "metadata": {
    "collapsed": false
   },
   "outputs": [
    {
     "name": "stdout",
     "output_type": "stream",
     "text": [
      "Fibonacci sequence upto 1 :1\n"
     ]
    }
   ],
   "source": [
    "fibo.fib2(1)"
   ]
  },
  {
   "cell_type": "code",
   "execution_count": 29,
   "metadata": {
    "collapsed": false
   },
   "outputs": [
    {
     "name": "stdout",
     "output_type": "stream",
     "text": [
      "Displaying Fibonacci sequence upto 2 :\n",
      "0 , 1 , 1 , 2\n"
     ]
    }
   ],
   "source": [
    "fibo.fib2(2)"
   ]
  },
  {
   "cell_type": "code",
   "execution_count": 30,
   "metadata": {
    "collapsed": false
   },
   "outputs": [
    {
     "name": "stdout",
     "output_type": "stream",
     "text": [
      "Displaying Fibonacci sequence upto 5 :\n",
      "0 , 1 , 1 , 2 , 3 , 5\n"
     ]
    }
   ],
   "source": [
    "fibo.fib2(5)"
   ]
  },
  {
   "cell_type": "code",
   "execution_count": 31,
   "metadata": {
    "collapsed": false
   },
   "outputs": [
    {
     "name": "stdout",
     "output_type": "stream",
     "text": [
      "Displaying Fibonacci sequence upto 50 :\n",
      "0 , 1 , 1 , 2 , 3 , 5 , 8 , 13 , 21 , 34\n"
     ]
    }
   ],
   "source": [
    "fibo.fib2(50)"
   ]
  },
  {
   "cell_type": "code",
   "execution_count": 32,
   "metadata": {
    "collapsed": false
   },
   "outputs": [
    {
     "name": "stdout",
     "output_type": "stream",
     "text": [
      "Displaying Fibonacci sequence upto 1000 :\n",
      "0 , 1 , 1 , 2 , 3 , 5 , 8 , 13 , 21 , 34 , 55 , 89 , 144 , 233 , 377 , 610 , 987\n"
     ]
    }
   ],
   "source": [
    "fibo.fib2(1000)"
   ]
  },
  {
   "cell_type": "markdown",
   "metadata": {},
   "source": [
    "### 4) Write a python module script that contains ispalindrome() method to calculate the input string as palindrome string or not and save it as palindrome.py"
   ]
  },
  {
   "cell_type": "code",
   "execution_count": 33,
   "metadata": {
    "collapsed": false
   },
   "outputs": [],
   "source": [
    "import palindrome as p"
   ]
  },
  {
   "cell_type": "code",
   "execution_count": 34,
   "metadata": {
    "collapsed": false
   },
   "outputs": [
    {
     "name": "stdout",
     "output_type": "stream",
     "text": [
      "Yes it is Palindrome !\n"
     ]
    }
   ],
   "source": [
    "p.ispalindrome('aba')"
   ]
  },
  {
   "cell_type": "code",
   "execution_count": 35,
   "metadata": {
    "collapsed": false
   },
   "outputs": [
    {
     "name": "stdout",
     "output_type": "stream",
     "text": [
      "Yes it is Palindrome !\n"
     ]
    }
   ],
   "source": [
    "p.ispalindrome('abaaba')"
   ]
  },
  {
   "cell_type": "code",
   "execution_count": 36,
   "metadata": {
    "collapsed": false
   },
   "outputs": [
    {
     "name": "stdout",
     "output_type": "stream",
     "text": [
      "Nope - it is not a Palindrome !\n"
     ]
    }
   ],
   "source": [
    "p.ispalindrome('GeeksforGeeks')"
   ]
  },
  {
   "cell_type": "code",
   "execution_count": 37,
   "metadata": {
    "collapsed": false
   },
   "outputs": [
    {
     "name": "stdout",
     "output_type": "stream",
     "text": [
      "Nope - it is not a Palindrome !\n"
     ]
    }
   ],
   "source": [
    "p.ispalindrome('Sudipta')"
   ]
  }
 ],
 "metadata": {
  "anaconda-cloud": {},
  "kernelspec": {
   "display_name": "Python [default]",
   "language": "python",
   "name": "python3"
  },
  "language_info": {
   "codemirror_mode": {
    "name": "ipython",
    "version": 3
   },
   "file_extension": ".py",
   "mimetype": "text/x-python",
   "name": "python",
   "nbconvert_exporter": "python",
   "pygments_lexer": "ipython3",
   "version": "3.5.5"
  }
 },
 "nbformat": 4,
 "nbformat_minor": 1
}
